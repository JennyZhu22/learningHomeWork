{
 "cells": [
  {
   "cell_type": "code",
   "execution_count": null,
   "metadata": {},
   "outputs": [],
   "source": [
    "from langchain.text_splitter import CharacterTextSplitter,RecursiveCharacterTextSplitter\n",
    "from langchain.embeddings.openai import OpenAIEmbeddings\n",
    "from langchain.text_splitter import CharacterTextSplitter\n",
    "from langchain.vectorstores import FAISS\n",
    "\n"
   ]
  },
  {
   "cell_type": "code",
   "execution_count": 246,
   "metadata": {},
   "outputs": [],
   "source": [
    "text_splitter = CharacterTextSplitter(       \n",
    "    separator = \"####\",\n",
    "    chunk_size = 300,\n",
    "    chunk_overlap  = 4,\n",
    "    length_function = len,\n",
    "    is_separator_regex = False,\n",
    ")"
   ]
  },
  {
   "cell_type": "code",
   "execution_count": 248,
   "metadata": {},
   "outputs": [],
   "source": [
    "with open(\"headphone_new.txt\", 'r', encoding='utf-8') as f:\n",
    "    real_estate_sales = f.read()"
   ]
  },
  {
   "cell_type": "code",
   "execution_count": 249,
   "metadata": {},
   "outputs": [],
   "source": [
    "docs = text_splitter.create_documents([real_estate_sales])\n"
   ]
  },
  {
   "cell_type": "code",
   "execution_count": 257,
   "metadata": {},
   "outputs": [
    {
     "data": {
      "text/plain": [
       "Document(page_content='品牌: OnePlus\\nheadphone name: OnePlus Bullets Z2 Bluetooth Wireless in Ear Earphones with Mic\\nWireless: yes\\n续航时间: 20 Hrs\\n充电时间: 10 Mins\\nmode: Bombastic Bass - 12.4 Mm Drivers\\n价格: 299', metadata={})"
      ]
     },
     "execution_count": 257,
     "metadata": {},
     "output_type": "execute_result"
    }
   ],
   "source": [
    "docs[0]"
   ]
  },
  {
   "cell_type": "code",
   "execution_count": 258,
   "metadata": {},
   "outputs": [
    {
     "data": {
      "text/plain": [
       "50"
      ]
     },
     "execution_count": 258,
     "metadata": {},
     "output_type": "execute_result"
    }
   ],
   "source": [
    "len(docs)\n"
   ]
  },
  {
   "cell_type": "code",
   "execution_count": null,
   "metadata": {},
   "outputs": [],
   "source": []
  },
  {
   "cell_type": "code",
   "execution_count": 254,
   "metadata": {},
   "outputs": [],
   "source": [
    "from langchain.embeddings.openai import OpenAIEmbeddings\n",
    "from langchain.text_splitter import CharacterTextSplitter\n",
    "from langchain.vectorstores import FAISS\n",
    "\n",
    "db = FAISS.from_documents(docs, OpenAIEmbeddings())"
   ]
  },
  {
   "cell_type": "code",
   "execution_count": 255,
   "metadata": {},
   "outputs": [],
   "source": [
    "db.save_local(\"headphone_new\")"
   ]
  },
  {
   "cell_type": "code",
   "execution_count": null,
   "metadata": {},
   "outputs": [],
   "source": []
  },
  {
   "cell_type": "code",
   "execution_count": null,
   "metadata": {},
   "outputs": [],
   "source": []
  },
  {
   "cell_type": "code",
   "execution_count": 271,
   "metadata": {},
   "outputs": [
    {
     "name": "stdout",
     "output_type": "stream",
     "text": [
      "品牌: Noise\n",
      "headphone name: Noise Buds VS104 in-Ear Truly Wireless Earbuds with 30H of Playtime, Instacharge(10 min=150 min), 13mm Driver, Mic, Hyper\n",
      "是否无线耳机: 无线\n",
      "续航时间: 30H\n",
      "充电时间: Instacharge(10 min=150 min)\n",
      "mode: 13mm Driver, Mic, Hyper\n",
      "价格: 499\n",
      "\n",
      "品牌: Oppo\n",
      "headphone name: Oppo Enco M32 Bluetooth Wireless in Ear Earbuds with Mic\n",
      "是否无线耳机: 无线\n",
      "续航时间: 28Hrs\n",
      "充电时间: 10 Mins Charge - 20Hrs Music Fast Charge\n",
      "mode: 10mm\n",
      "价格: 999\n",
      "\n",
      "品牌: OnePlus\n",
      "headphone name: OnePlus Bullets Z2 Bluetooth Wireless in Ear Earphones with Mic\n",
      "是否无线耳机: 无线\n",
      "续航时间: 20 Hrs\n",
      "充电时间: 10 Mins\n",
      "mode: Bombastic Bass - 12.4 Mm Drivers\n",
      "价格: 299\n",
      "\n",
      "品牌: boAt\n",
      "headphone name: boAt Bassheads 105 Wired in Ear Earphones with Mic (Black)\n",
      "是否无线耳机: 有线\n",
      "续航时间: N/A\n",
      "充电时间: N/A\n",
      "mode: N/A\n",
      "价格: 99\n",
      "\n"
     ]
    }
   ],
   "source": [
    "query = \"有没有无线耳机\"\n",
    "answer_list = db.similarity_search(query)\n",
    "for doc in answer_list:\n",
    "    print(doc.page_content + \"\\n\")"
   ]
  },
  {
   "cell_type": "code",
   "execution_count": null,
   "metadata": {},
   "outputs": [],
   "source": [
    "from langchain.embeddings.openai import OpenAIEmbeddings\n",
    "from langchain.text_splitter import CharacterTextSplitter\n",
    "from langchain.vectorstores import FAISS\n",
    "\n",
    "db = FAISS.load_local(\"headphone_new\", OpenAIEmbeddings())\n"
   ]
  },
  {
   "cell_type": "code",
   "execution_count": null,
   "metadata": {},
   "outputs": [],
   "source": [
    "retriever = db.as_retriever(\n",
    "    search_type=\"similarity_score_threshold\",\n",
    "    search_kwargs={\"score_threshold\": 0.8}\n",
    ")"
   ]
  },
  {
   "cell_type": "code",
   "execution_count": 3,
   "metadata": {},
   "outputs": [],
   "source": [
    "from langchain.embeddings.openai import OpenAIEmbeddings\n",
    "from langchain.vectorstores import FAISS\n",
    "from langchain.chains import RetrievalQA\n",
    "from langchain.chat_models import ChatOpenAI\n",
    "from langchain.prompts import PromptTemplate\n",
    "db = FAISS.load_local(\"headphone_new\", OpenAIEmbeddings())\n"
   ]
  },
  {
   "cell_type": "code",
   "execution_count": 6,
   "metadata": {},
   "outputs": [],
   "source": [
    "from langchain.chains import RetrievalQA\n",
    "from langchain.chat_models import ChatOpenAI\n",
    "\n",
    "llm = ChatOpenAI(model_name=\"gpt-3.5-turbo\", temperature=0)\n",
    "qa_chain = RetrievalQA.from_chain_type(llm,\n",
    "                                       retriever=db.as_retriever(search_type=\"similarity_score_threshold\",\n",
    "                                                                 search_kwargs={\"score_threshold\": 0.8}))"
   ]
  },
  {
   "cell_type": "code",
   "execution_count": 7,
   "metadata": {},
   "outputs": [
    {
     "ename": "NameError",
     "evalue": "name 'query' is not defined",
     "output_type": "error",
     "traceback": [
      "\u001b[1;31m---------------------------------------------------------------------------\u001b[0m",
      "\u001b[1;31mNameError\u001b[0m                                 Traceback (most recent call last)",
      "Cell \u001b[1;32mIn[7], line 1\u001b[0m\n\u001b[1;32m----> 1\u001b[0m qa_chain({\u001b[38;5;124m\"\u001b[39m\u001b[38;5;124mquery\u001b[39m\u001b[38;5;124m\"\u001b[39m: \u001b[43mquery\u001b[49m})\n",
      "\u001b[1;31mNameError\u001b[0m: name 'query' is not defined"
     ]
    }
   ],
   "source": [
    "qa_chain({\"query\": query})"
   ]
  },
  {
   "cell_type": "code",
   "execution_count": 411,
   "metadata": {},
   "outputs": [],
   "source": [
    "def get_chat_history123(inputs) -> str:\n",
    "    res = []\n",
    "    for human, ai in inputs:\n",
    "        res.append(f\"Human:{human}\\nAI:{ai}\")\n",
    "    return \"\\n\".join(res)\n"
   ]
  },
  {
   "cell_type": "code",
   "execution_count": 42,
   "metadata": {},
   "outputs": [
    {
     "name": "stdout",
     "output_type": "stream",
     "text": [
      "\n",
      "\n",
      "\u001b[1m> Entering new StuffDocumentsChain chain...\u001b[0m\n",
      "\n",
      "\n",
      "\u001b[1m> Entering new LLMChain chain...\u001b[0m\n",
      "Prompt after formatting:\n",
      "\u001b[32;1m\u001b[1;3mSystem: Use the following pieces of context to answer the users question. \n",
      "If you don't know the answer, just say that you don't know, don't try to make up an answer.\n",
      "----------------\n",
      "品牌: JBL\n",
      "headphone name: JBL C50HI, Wired in Ear Headphones with Mic, One Button Multi-Function Remote, Lightweight & Comfortable fit (Blue)\n",
      "是否无线耳机: 有线\n",
      "续航时间: N/A\n",
      "充电时间: N/A\n",
      "mode: N/A\n",
      "价格: 99\n",
      "\n",
      "品牌: JBL\n",
      "headphone name: JBL C50HI, Wired in Ear Headphones with Mic, One Button Multi-Function Remote, Lightweight & Comfortable fit (Black)\n",
      "是否无线耳机: 有线\n",
      "续航时间: N/A\n",
      "充电时间: N/A\n",
      "mode: N/A\n",
      "价格: 99\n",
      "Human: 有没有JBL的耳机？\u001b[0m\n",
      "\n",
      "\u001b[1m> Finished chain.\u001b[0m\n",
      "\n",
      "\u001b[1m> Finished chain.\u001b[0m\n"
     ]
    },
    {
     "data": {
      "text/plain": [
       "'有，JBL有一款有线耳机名为JBL C50HI，售价为99元。'"
      ]
     },
     "execution_count": 42,
     "metadata": {},
     "output_type": "execute_result"
    }
   ],
   "source": [
    "from langchain.chains import ConversationalRetrievalChain\n",
    "from langchain.prompts import PromptTemplate\n",
    " \n",
    "\n",
    "# Build prompt\n",
    "template =  \"\"\"Given the following conversation and a follow up question, rephrase the follow up question to be a standalone question, in its original language.\n",
    "Chat History:\n",
    "{chat_history}\n",
    "Follow Up Input: {question}\n",
    "Standalone question:\n",
    "同时请考虑以下这点\n",
    "1:这个是个中文环境，当rephrase的时候，也要考虑中文的语境\n",
    "\"\"\"\n",
    "\n",
    "llm = ChatOpenAI(model_name=\"gpt-3.5-turbo\", temperature=0)\n",
    "\n",
    "QA_CHAIN_PROMPT = PromptTemplate(input_variables=[\"chat_history\",\"question\"], template=template)\n",
    " \n",
    "qa = ConversationalRetrievalChain.from_llm(llm, db.as_retriever(search_type=\"similarity_score_threshold\",\n",
    "                                                                 search_kwargs={\"score_threshold\": 0.8}),\n",
    "                                           verbose=True,\n",
    "                                           return_generated_question=True,\n",
    "                                           condense_question_prompt=QA_CHAIN_PROMPT\n",
    "                                          # combine_docs_chain_kwargs={\"prompt\": QA_CHAIN_PROMPT}\n",
    "                                          )\n",
    "\n",
    "chat_history = []\n",
    "query = \"有没有JBL的耳机？\"\n",
    "result = qa({\"question\": query, \"chat_history\": chat_history})\n",
    "result[\"answer\"]\n"
   ]
  },
  {
   "cell_type": "code",
   "execution_count": 39,
   "metadata": {},
   "outputs": [
    {
     "name": "stdout",
     "output_type": "stream",
     "text": [
      "[('有没有JBL的耳机？', '有，JBL有一款有线耳机名为JBL C50HI，售价为99元。')]\n",
      "\n",
      "\n",
      "\u001b[1m> Entering new LLMChain chain...\u001b[0m\n",
      "Prompt after formatting:\n",
      "\u001b[32;1m\u001b[1;3mGiven the following conversation and a follow up question, rephrase the follow up question to be a standalone question, in its original language.\n",
      "Chat History:\n",
      "\n",
      "Human: 有没有JBL的耳机？\n",
      "Assistant: 有，JBL有一款有线耳机名为JBL C50HI，售价为99元。\n",
      "Follow Up Input: 请列一下大概500元的耳机？\n",
      "Standalone question:\n",
      "同时请考虑以下这点\n",
      "1:这个是个中文环境，当rephrase的时候，也要考虑中文的语境\n",
      "\u001b[0m\n",
      "\n",
      "\u001b[1m> Finished chain.\u001b[0m\n",
      "\n",
      "\n",
      "\u001b[1m> Entering new StuffDocumentsChain chain...\u001b[0m\n",
      "\n",
      "\n",
      "\u001b[1m> Entering new LLMChain chain...\u001b[0m\n",
      "Prompt after formatting:\n",
      "\u001b[32;1m\u001b[1;3mSystem: Use the following pieces of context to answer the users question. \n",
      "If you don't know the answer, just say that you don't know, don't try to make up an answer.\n",
      "----------------\n",
      "\n",
      "Human: 请列一下大约500元的耳机有哪些？\u001b[0m\n",
      "\n",
      "\u001b[1m> Finished chain.\u001b[0m\n",
      "\n",
      "\u001b[1m> Finished chain.\u001b[0m\n"
     ]
    },
    {
     "data": {
      "text/plain": [
       "'以下是大约500元左右的一些耳机选项：\\n\\n1. Sony MDR-XB55AP：这是一款入门级的耳机，具有强调低音的特点，适合喜欢重低音的用户。\\n\\n2. JBL T450BT：这是一款无线蓝牙耳机，具有舒适的耳罩设计和清晰的音质。\\n\\n3. Sennheiser HD 206：这是一款经济实惠的耳机，具有良好的音质和舒适的佩戴感。\\n\\n4. Audio-Technica ATH-M20x：这是一款专业监听耳机，适合音乐制作和录音室使用。\\n\\n5. AKG K92：这是一款平衡的耳机，具有清晰的音质和舒适的佩戴感。\\n\\n请注意，耳机的价格和型号可能会因地区和销售渠道而有所不同。建议您在购买前进行更多的市场调查和比较，以找到最适合您需求和预算的耳机。'"
      ]
     },
     "execution_count": 39,
     "metadata": {},
     "output_type": "execute_result"
    }
   ],
   "source": [
    "chat_history = [(query, result[\"answer\"])]\n",
    "print(chat_history)\n",
    "query = \"请列一下大概500元的耳机？\"\n",
    "result = qa({\"question\": query, \"chat_history\": chat_history})\n",
    "result[\"answer\"]\n"
   ]
  },
  {
   "cell_type": "code",
   "execution_count": 46,
   "metadata": {},
   "outputs": [
    {
     "name": "stdout",
     "output_type": "stream",
     "text": [
      "[('is there JBL headphone？', '是的，我们有JBL的耳机。')]\n",
      "\n",
      "\n",
      "\u001b[1m> Entering new LLMChain chain...\u001b[0m\n",
      "Prompt after formatting:\n",
      "\u001b[32;1m\u001b[1;3mGiven the following conversation and a follow up question, rephrase the follow up question to be a standalone question, in its original language.\n",
      "Chat History:\n",
      "\n",
      "Human: is there JBL headphone？\n",
      "Assistant: 是的，我们有JBL的耳机。\n",
      "Follow Up Input: 有没有JBL的耳机？\n",
      "Standalone question:\n",
      "同时请考虑以下这点\n",
      "1:这个是个中文环境，当rephrase的时候，也要考虑中文的语境\n",
      "\u001b[0m\n",
      "\n",
      "\u001b[1m> Finished chain.\u001b[0m\n",
      "\n",
      "\n",
      "\u001b[1m> Entering new StuffDocumentsChain chain...\u001b[0m\n",
      "\n",
      "\n",
      "\u001b[1m> Entering new LLMChain chain...\u001b[0m\n",
      "Prompt after formatting:\n",
      "\u001b[32;1m\u001b[1;3mSystem: Use the following pieces of context to answer the users question. \n",
      "If you don't know the answer, just say that you don't know, don't try to make up an answer.\n",
      "----------------\n",
      "品牌: JBL\n",
      "headphone name: JBL C50HI, Wired in Ear Headphones with Mic, One Button Multi-Function Remote, Lightweight & Comfortable fit (Blue)\n",
      "是否无线耳机: 有线\n",
      "续航时间: N/A\n",
      "充电时间: N/A\n",
      "mode: N/A\n",
      "价格: 99\n",
      "\n",
      "品牌: JBL\n",
      "headphone name: JBL C50HI, Wired in Ear Headphones with Mic, One Button Multi-Function Remote, Lightweight & Comfortable fit (Black)\n",
      "是否无线耳机: 有线\n",
      "续航时间: N/A\n",
      "充电时间: N/A\n",
      "mode: N/A\n",
      "价格: 99\n",
      "Human: 有没有JBL的耳机？\u001b[0m\n"
     ]
    },
    {
     "name": "stderr",
     "output_type": "stream",
     "text": [
      "Retrying langchain.chat_models.openai.ChatOpenAI.completion_with_retry.<locals>._completion_with_retry in 4.0 seconds as it raised RateLimitError: Rate limit reached for default-gpt-3.5-turbo in organization org-7bh0JDOeBMdvHwH3KeKISO3U on requests per min. Limit: 3 / min. Please try again in 20s. Contact us through our help center at help.openai.com if you continue to have issues. Please add a payment method to your account to increase your rate limit. Visit https://platform.openai.com/account/billing to add a payment method..\n",
      "Retrying langchain.chat_models.openai.ChatOpenAI.completion_with_retry.<locals>._completion_with_retry in 4.0 seconds as it raised RateLimitError: Rate limit reached for default-gpt-3.5-turbo in organization org-7bh0JDOeBMdvHwH3KeKISO3U on requests per min. Limit: 3 / min. Please try again in 20s. Contact us through our help center at help.openai.com if you continue to have issues. Please add a payment method to your account to increase your rate limit. Visit https://platform.openai.com/account/billing to add a payment method..\n",
      "Retrying langchain.chat_models.openai.ChatOpenAI.completion_with_retry.<locals>._completion_with_retry in 4.0 seconds as it raised RateLimitError: Rate limit reached for default-gpt-3.5-turbo in organization org-7bh0JDOeBMdvHwH3KeKISO3U on requests per min. Limit: 3 / min. Please try again in 20s. Contact us through our help center at help.openai.com if you continue to have issues. Please add a payment method to your account to increase your rate limit. Visit https://platform.openai.com/account/billing to add a payment method..\n"
     ]
    },
    {
     "name": "stdout",
     "output_type": "stream",
     "text": [
      "\n",
      "\u001b[1m> Finished chain.\u001b[0m\n",
      "\n",
      "\u001b[1m> Finished chain.\u001b[0m\n"
     ]
    },
    {
     "data": {
      "text/plain": [
       "'有，JBL有一款有线耳机名为JBL C50HI，售价为99元。'"
      ]
     },
     "execution_count": 46,
     "metadata": {},
     "output_type": "execute_result"
    }
   ],
   "source": [
    "chat_history = [(query, result[\"answer\"])]\n",
    "print(chat_history)\n",
    "query = \"有没有JBL的耳机？\"\n",
    "result = qa({\"question\": query, \"chat_history\": chat_history})\n",
    "result[\"answer\"]\n"
   ]
  },
  {
   "cell_type": "code",
   "execution_count": 301,
   "metadata": {},
   "outputs": [
    {
     "name": "stdout",
     "output_type": "stream",
     "text": [
      "[]\n"
     ]
    }
   ],
   "source": [
    "print(chat_history)"
   ]
  },
  {
   "cell_type": "code",
   "execution_count": 302,
   "metadata": {},
   "outputs": [
    {
     "name": "stdout",
     "output_type": "stream",
     "text": [
      "[('有JBL的耳机吗', '是的，我们有JBL的耳机。')]\n"
     ]
    }
   ],
   "source": [
    "chat_history = [(query, result[\"answer\"])]\n",
    "print(chat_history)"
   ]
  },
  {
   "cell_type": "code",
   "execution_count": 34,
   "metadata": {},
   "outputs": [
    {
     "name": "stdout",
     "output_type": "stream",
     "text": [
      "\n",
      "\n",
      "\u001b[1m> Entering new StuffDocumentsChain chain...\u001b[0m\n",
      "\n",
      "\n",
      "\u001b[1m> Entering new LLMChain chain...\u001b[0m\n",
      "Prompt after formatting:\n",
      "\u001b[32;1m\u001b[1;3mSystem: Use the following pieces of context to answer the users question. \n",
      "If you don't know the answer, just say that you don't know, don't try to make up an answer.\n",
      "----------------\n",
      "\n",
      "Human: 请列一下大概500元的耳机\u001b[0m\n",
      "\n",
      "\u001b[1m> Finished chain.\u001b[0m\n",
      "\n",
      "\u001b[1m> Finished chain.\u001b[0m\n"
     ]
    },
    {
     "data": {
      "text/plain": [
       "'以下是一些大约500元左右的耳机选项：\\n\\n1. Sony MDR-XB55AP：这是一款入门级的耳机，具有出色的低音效果和舒适的佩戴感。\\n2. JBL T450BT：这是一款无线蓝牙耳机，具有清晰的声音和长时间的电池寿命。\\n3. Sennheiser HD 4.20s：这是一款高保真耳机，具有出色的音质和耐用性。\\n4. Audio-Technica ATH-M20x：这是一款专业监听耳机，适合音乐制作和录音室使用。\\n5. Beats EP：这是一款时尚的耳机，具有强调低音的特点，适合喜欢流行音乐的用户。\\n\\n请注意，耳机的价格可能会因地区和销售渠道而有所不同。建议在购买前查看当地的价格和评论，以选择最适合您的耳机。'"
      ]
     },
     "execution_count": 34,
     "metadata": {},
     "output_type": "execute_result"
    }
   ],
   "source": [
    "query = \"请列一下大概500元的耳机\"\n",
    "chat_history = []\n",
    "result = qa({\"question\": query,\"chat_history\":chat_history})\n",
    "result[\"answer\"]"
   ]
  },
  {
   "cell_type": "code",
   "execution_count": null,
   "metadata": {},
   "outputs": [],
   "source": []
  },
  {
   "cell_type": "code",
   "execution_count": null,
   "metadata": {},
   "outputs": [],
   "source": []
  }
 ],
 "metadata": {
  "kernelspec": {
   "display_name": "Python 3 (ipykernel)",
   "language": "python",
   "name": "python3"
  },
  "language_info": {
   "codemirror_mode": {
    "name": "ipython",
    "version": 3
   },
   "file_extension": ".py",
   "mimetype": "text/x-python",
   "name": "python",
   "nbconvert_exporter": "python",
   "pygments_lexer": "ipython3",
   "version": "3.10.12"
  }
 },
 "nbformat": 4,
 "nbformat_minor": 2
}
